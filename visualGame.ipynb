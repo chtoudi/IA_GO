{
 "cells": [
  {
   "cell_type": "markdown",
   "metadata": {},
   "source": [
    "## Adaptation de namedGame à Jupyter\n",
    "\n",
    "Vous pouvez utiliser cette feuille pour visualiser un match.\n",
    "\n",
    "Pour charger vos joueurs, il faut changer leurs noms dans 'classNames' (ligne 13)"
   ]
  },
  {
   "cell_type": "code",
   "execution_count": 4,
   "metadata": {},
   "outputs": [
    {
     "ename": "ModuleNotFoundError",
     "evalue": "No module named 'myPlayer.py'; 'myPlayer' is not a package",
     "output_type": "error",
     "traceback": [
      "\u001b[0;31m---------------------------------------------------------------------------\u001b[0m",
      "\u001b[0;31mModuleNotFoundError\u001b[0m                       Traceback (most recent call last)",
      "\u001b[0;32m<ipython-input-4-944b503ae3f3>\u001b[0m in \u001b[0;36m<module>\u001b[0;34m()\u001b[0m\n\u001b[1;32m      7\u001b[0m \u001b[0;32mimport\u001b[0m \u001b[0msys\u001b[0m\u001b[0;34m\u001b[0m\u001b[0;34m\u001b[0m\u001b[0m\n\u001b[1;32m      8\u001b[0m \u001b[0;32mfrom\u001b[0m \u001b[0mIPython\u001b[0m\u001b[0;34m.\u001b[0m\u001b[0mdisplay\u001b[0m \u001b[0;32mimport\u001b[0m \u001b[0mdisplay\u001b[0m\u001b[0;34m,\u001b[0m \u001b[0mHTML\u001b[0m\u001b[0;34m,\u001b[0m \u001b[0mclear_output\u001b[0m\u001b[0;34m\u001b[0m\u001b[0;34m\u001b[0m\u001b[0m\n\u001b[0;32m----> 9\u001b[0;31m \u001b[0;32mimport\u001b[0m \u001b[0mmyPlayer\u001b[0m\u001b[0;34m.\u001b[0m\u001b[0mpy\u001b[0m\u001b[0;34m\u001b[0m\u001b[0;34m\u001b[0m\u001b[0m\n\u001b[0m\u001b[1;32m     10\u001b[0m \u001b[0;34m\u001b[0m\u001b[0m\n\u001b[1;32m     11\u001b[0m \u001b[0;31m# Uncomment for saving the successive SVG to PNG\u001b[0m\u001b[0;34m\u001b[0m\u001b[0;34m\u001b[0m\u001b[0;34m\u001b[0m\u001b[0m\n",
      "\u001b[0;31mModuleNotFoundError\u001b[0m: No module named 'myPlayer.py'; 'myPlayer' is not a package"
     ]
    }
   ],
   "source": [
    "''' Sorry no comments :).\n",
    "'''\n",
    "import Goban \n",
    "import importlib\n",
    "import time\n",
    "from io import StringIO\n",
    "import sys\n",
    "from IPython.display import display, HTML, clear_output\n",
    "import myPlayer.py\n",
    "\n",
    "# Uncomment for saving the successive SVG to PNG\n",
    "# from cairosvg import svg2png\n",
    "\n",
    "# Define here the players to load\n",
    "classNames = ['myPlayer.py', 'randomPlayer.py']\n",
    "\n",
    "b = Goban.Board()\n",
    "\n",
    "players = []\n",
    "player1class = importlib.import_module(classNames[0])\n",
    "player1 = player1class.myPlayer()\n",
    "player1.newGame(Goban.Board._BLACK)\n",
    "players.append(player1)\n",
    "\n",
    "player2class = importlib.import_module(classNames[1])\n",
    "player2 = player2class.myPlayer()\n",
    "player2.newGame(Goban.Board._WHITE)\n",
    "players.append(player2)\n",
    "\n",
    "totalTime = [0,0] # total real time for each player\n",
    "nextplayer = 0\n",
    "nextplayercolor = Goban.Board._BLACK\n",
    "nbmoves = 1\n",
    "\n",
    "outputs = [\"\",\"\"]\n",
    "sysstdout= sys.stdout\n",
    "stringio = StringIO()\n",
    "wrongmovefrom = 0\n",
    "\n",
    "print(\"The game is setup with \" + player1.getPlayerName() + \" playing BLACKS against \" + player2.getPlayerName() + \" playing WHITE\")\n",
    "print(\"Engines loaded. Ready to go.\")\n"
   ]
  },
  {
   "cell_type": "code",
   "execution_count": 5,
   "metadata": {},
   "outputs": [
    {
     "data": {
      "text/html": [
       "<svg height=\"380\"  width=\"380\" > <svg height=\"20\" width=\"380\"><text x=\"35\" y=\"18\" font-size=\"24\" font-color=\"black\">A</text><text x=\"75\" y=\"18\" font-size=\"24\" font-color=\"black\">B</text><text x=\"115\" y=\"18\" font-size=\"24\" font-color=\"black\">C</text><text x=\"155\" y=\"18\" font-size=\"24\" font-color=\"black\">D</text><text x=\"195\" y=\"18\" font-size=\"24\" font-color=\"black\">E</text><text x=\"235\" y=\"18\" font-size=\"24\" font-color=\"black\">F</text><text x=\"275\" y=\"18\" font-size=\"24\" font-color=\"black\">G</text><text x=\"315\" y=\"18\" font-size=\"24\" font-color=\"black\">H</text><text x=\"355\" y=\"18\" font-size=\"24\" font-color=\"black\">J</text></svg><svg width=\"20\" height=\"380\"><text y=\"47\" x=\"0\" font-size=\"24\" font-color=\"black\">9</text><text y=\"87\" x=\"0\" font-size=\"24\" font-color=\"black\">8</text><text y=\"127\" x=\"0\" font-size=\"24\" font-color=\"black\">7</text><text y=\"167\" x=\"0\" font-size=\"24\" font-color=\"black\">6</text><text y=\"207\" x=\"0\" font-size=\"24\" font-color=\"black\">5</text><text y=\"247\" x=\"0\" font-size=\"24\" font-color=\"black\">4</text><text y=\"287\" x=\"0\" font-size=\"24\" font-color=\"black\">3</text><text y=\"327\" x=\"0\" font-size=\"24\" font-color=\"black\">2</text><text y=\"367\" x=\"0\" font-size=\"24\" font-color=\"black\">1</text></svg> <svg x=\"20\" y=\"20\" height=\"380\" width=\"380\" > <rect x=\"0\" y=\"0\" width=\"360\" height=\"360\" fill=\"#B4927A\" />        <line x1=\"20\" y1=\"20\" x2=\"20\" y2=\"340\" stroke-width=\"4\" stroke=\"black\"/>        <line x1=\"340\" y1=\"20\" x2=\"20\" y2=\"20\" stroke-width=\"4\" stroke=\"black\"/>        <line x1=\"340\" y1=\"340\" x2=\"340\" y2=\"20\" stroke-width=\"4\" stroke=\"black\"/>        <line x1=\"20\" y1=\"340\" x2=\"340\" y2=\"340\" stroke-width=\"4\" stroke=\"black\"/><line x1=\"166.66666666666666\" y1=\"180\" x2=\"193.33333333333334\" y2=\"180\" stroke-width=\"3\" stroke=\"black\" /><line x1=\"180\" y1=\"166.66666666666666\" x2=\"180\" y2=\"193.33333333333334\" stroke-width=\"3\" stroke=\"black\" /><line x1=\"86.66666666666667\" y1=\"100\" x2=\"113.33333333333333\" y2=\"100\" stroke-width=\"3\" stroke=\"black\" /><line x1=\"100\" y1=\"86.66666666666667\" x2=\"100\" y2=\"113.33333333333333\" stroke-width=\"3\" stroke=\"black\" /><line x1=\"246.66666666666666\" y1=\"260\" x2=\"273.3333333333333\" y2=\"260\" stroke-width=\"3\" stroke=\"black\" /><line x1=\"260\" y1=\"246.66666666666666\" x2=\"260\" y2=\"273.3333333333333\" stroke-width=\"3\" stroke=\"black\" /><line x1=\"86.66666666666667\" y1=\"260\" x2=\"113.33333333333333\" y2=\"260\" stroke-width=\"3\" stroke=\"black\" /><line x1=\"100\" y1=\"246.66666666666666\" x2=\"100\" y2=\"273.3333333333333\" stroke-width=\"3\" stroke=\"black\" /><line x1=\"246.66666666666666\" y1=\"100\" x2=\"273.3333333333333\" y2=\"100\" stroke-width=\"3\" stroke=\"black\" /><line x1=\"260\" y1=\"86.66666666666667\" x2=\"260\" y2=\"113.33333333333333\" stroke-width=\"3\" stroke=\"black\" /><line x1=\"60\" y1=\"20\" x2=\"60\" y2=\"340\" stroke-width=\"2\" stroke=\"#444444\"/><line y1=\"60\" x1=\"20\" y2=\"60\" x2=\"340\" stroke-width=\"2\" stroke=\"#444444\"/><line x1=\"100\" y1=\"20\" x2=\"100\" y2=\"340\" stroke-width=\"2\" stroke=\"#444444\"/><line y1=\"100\" x1=\"20\" y2=\"100\" x2=\"340\" stroke-width=\"2\" stroke=\"#444444\"/><line x1=\"140\" y1=\"20\" x2=\"140\" y2=\"340\" stroke-width=\"2\" stroke=\"#444444\"/><line y1=\"140\" x1=\"20\" y2=\"140\" x2=\"340\" stroke-width=\"2\" stroke=\"#444444\"/><line x1=\"180\" y1=\"20\" x2=\"180\" y2=\"340\" stroke-width=\"2\" stroke=\"#444444\"/><line y1=\"180\" x1=\"20\" y2=\"180\" x2=\"340\" stroke-width=\"2\" stroke=\"#444444\"/><line x1=\"220\" y1=\"20\" x2=\"220\" y2=\"340\" stroke-width=\"2\" stroke=\"#444444\"/><line y1=\"220\" x1=\"20\" y2=\"220\" x2=\"340\" stroke-width=\"2\" stroke=\"#444444\"/><line x1=\"260\" y1=\"20\" x2=\"260\" y2=\"340\" stroke-width=\"2\" stroke=\"#444444\"/><line y1=\"260\" x1=\"20\" y2=\"260\" x2=\"340\" stroke-width=\"2\" stroke=\"#444444\"/><line x1=\"300\" y1=\"20\" x2=\"300\" y2=\"340\" stroke-width=\"2\" stroke=\"#444444\"/><line y1=\"300\" x1=\"20\" y2=\"300\" x2=\"340\" stroke-width=\"2\" stroke=\"#444444\"/></svg></svg>"
      ],
      "text/plain": [
       "<IPython.core.display.HTML object>"
      ]
     },
     "metadata": {},
     "output_type": "display_data"
    },
    {
     "name": "stdout",
     "output_type": "stream",
     "text": [
      "Legal Moves:  ['A1', 'B1', 'C1', 'D1', 'E1', 'F1', 'G1', 'H1', 'J1', 'A2', 'B2', 'C2', 'D2', 'E2', 'F2', 'G2', 'H2', 'J2', 'A3', 'B3', 'C3', 'D3', 'E3', 'F3', 'G3', 'H3', 'J3', 'A4', 'B4', 'C4', 'D4', 'E4', 'F4', 'G4', 'H4', 'J4', 'A5', 'B5', 'C5', 'D5', 'E5', 'F5', 'G5', 'H5', 'J5', 'A6', 'B6', 'C6', 'D6', 'E6', 'F6', 'G6', 'H6', 'J6', 'A7', 'B7', 'C7', 'D7', 'E7', 'F7', 'G7', 'H7', 'J7', 'A8', 'B8', 'C8', 'D8', 'E8', 'F8', 'G8', 'H8', 'J8', 'A9', 'B9', 'C9', 'D9', 'E9', 'F9', 'G9', 'H9', 'J9', 'PASS']\n"
     ]
    },
    {
     "ename": "NameError",
     "evalue": "name 'nextplayer' is not defined",
     "output_type": "error",
     "traceback": [
      "\u001b[0;31m---------------------------------------------------------------------------\u001b[0m",
      "\u001b[0;31mNameError\u001b[0m                                 Traceback (most recent call last)",
      "\u001b[0;32m<ipython-input-5-4e58f59fa540>\u001b[0m in \u001b[0;36m<module>\u001b[0;34m()\u001b[0m\n\u001b[1;32m      9\u001b[0m     \u001b[0mprint\u001b[0m\u001b[0;34m(\u001b[0m\u001b[0;34m\"Legal Moves: \"\u001b[0m\u001b[0;34m,\u001b[0m \u001b[0;34m[\u001b[0m\u001b[0mb\u001b[0m\u001b[0;34m.\u001b[0m\u001b[0mmove_to_str\u001b[0m\u001b[0;34m(\u001b[0m\u001b[0mm\u001b[0m\u001b[0;34m)\u001b[0m \u001b[0;32mfor\u001b[0m \u001b[0mm\u001b[0m \u001b[0;32min\u001b[0m \u001b[0mlegals\u001b[0m\u001b[0;34m]\u001b[0m\u001b[0;34m)\u001b[0m \u001b[0;31m# I have to use this wrapper if I want to print them\u001b[0m\u001b[0;34m\u001b[0m\u001b[0;34m\u001b[0m\u001b[0m\n\u001b[1;32m     10\u001b[0m \u001b[0;34m\u001b[0m\u001b[0m\n\u001b[0;32m---> 11\u001b[0;31m     \u001b[0motherplayer\u001b[0m \u001b[0;34m=\u001b[0m \u001b[0;34m(\u001b[0m\u001b[0mnextplayer\u001b[0m \u001b[0;34m+\u001b[0m \u001b[0;36m1\u001b[0m\u001b[0;34m)\u001b[0m \u001b[0;34m%\u001b[0m \u001b[0;36m2\u001b[0m\u001b[0;34m\u001b[0m\u001b[0;34m\u001b[0m\u001b[0m\n\u001b[0m\u001b[1;32m     12\u001b[0m     \u001b[0mothercolor\u001b[0m \u001b[0;34m=\u001b[0m \u001b[0mGoban\u001b[0m\u001b[0;34m.\u001b[0m\u001b[0mBoard\u001b[0m\u001b[0;34m.\u001b[0m\u001b[0mflip\u001b[0m\u001b[0;34m(\u001b[0m\u001b[0mnextplayercolor\u001b[0m\u001b[0;34m)\u001b[0m\u001b[0;34m\u001b[0m\u001b[0;34m\u001b[0m\u001b[0m\n\u001b[1;32m     13\u001b[0m \u001b[0;34m\u001b[0m\u001b[0m\n",
      "\u001b[0;31mNameError\u001b[0m: name 'nextplayer' is not defined"
     ]
    }
   ],
   "source": [
    "coup = 1\n",
    "while not b.is_game_over():\n",
    "    print(\"Referee Board:\")\n",
    "    clear_output(wait=True)\n",
    "    display(HTML(b.svg()))\n",
    "    #svg2png(bytestring=b.svg(),write_to='output-'+str(coup).zfill(4)+'.png')\n",
    "    legals = b.legal_moves() # legal moves are given as internal (flat) coordinates, not A1, A2, ...\n",
    "\n",
    "    print(\"Legal Moves: \", [b.move_to_str(m) for m in legals]) # I have to use this wrapper if I want to print them\n",
    "   \n",
    "    otherplayer = (nextplayer + 1) % 2\n",
    "    othercolor = Goban.Board.flip(nextplayercolor)\n",
    "    \n",
    "    currentTime = time.time()\n",
    "    sys.stdout = stringio\n",
    "    move = players[nextplayer].getPlayerMove() # The move must be given by \"A1\", ... \"J8\" string coordinates (not as an internal move)\n",
    "    sys.stdout = sysstdout\n",
    "    playeroutput = stringio.getvalue()\n",
    "    stringio.truncate(0)\n",
    "    stringio.seek(0)\n",
    "    print((\"[Player \"+str(nextplayer) + \"] \").join(playeroutput.splitlines(True)))\n",
    "    outputs[nextplayer] += playeroutput\n",
    "    totalTime[nextplayer] += time.time() - currentTime\n",
    "    print(\"Player \", nextplayercolor, players[nextplayer].getPlayerName(), \"plays: \" + move) #changed \n",
    "\n",
    "    if not Goban.Board.name_to_flat(move) in legals:\n",
    "        print(otherplayer, nextplayer, nextplayercolor)\n",
    "        print(\"Problem: illegal move\")\n",
    "        wrongmovefrom = nextplayercolor\n",
    "        break\n",
    "    b.push(Goban.Board.name_to_flat(move)) # Here I have to internally flatten the move to be able to check it.\n",
    "    players[otherplayer].playOpponentMove(move)\n",
    " \n",
    "    nextplayer = otherplayer\n",
    "    nextplayercolor = othercolor\n",
    "    time.sleep(1)\n",
    "    coup += 1\n",
    "\n",
    "print(\"The game is over\")\n",
    "b.prettyPrint()\n",
    "result = b.result()\n",
    "print(\"Time:\", totalTime)\n",
    "print(\"GO Score:\", b.final_go_score())\n",
    "print(\"Winner: \", end=\"\")\n",
    "if wrongmovefrom > 0:\n",
    "    if wrongmovefrom == b._WHITE:\n",
    "        print(\"BLACK\")\n",
    "    elif wrongmovefrom == b._BLACK:\n",
    "        print(\"WHITE\")\n",
    "    else:\n",
    "        print(\"ERROR\")\n",
    "elif result == \"1-0\":\n",
    "    print(\"WHITE\")\n",
    "elif result == \"0-1\":\n",
    "    print(\"BLACK\")\n",
    "else:\n",
    "    print(\"DEUCE\")\n",
    "\n",
    "# To convert png files to animated gif    \n",
    "# convert -delay 10 -loop 0 *.png -background white -alpha remove -alpha off output.gif\n",
    "\n"
   ]
  },
  {
   "cell_type": "code",
   "execution_count": null,
   "metadata": {},
   "outputs": [],
   "source": []
  }
 ],
 "metadata": {
  "kernelspec": {
   "display_name": "Python 3",
   "language": "python",
   "name": "python3"
  },
  "language_info": {
   "codemirror_mode": {
    "name": "ipython",
    "version": 3
   },
   "file_extension": ".py",
   "mimetype": "text/x-python",
   "name": "python",
   "nbconvert_exporter": "python",
   "pygments_lexer": "ipython3",
   "version": "3.6.7"
  }
 },
 "nbformat": 4,
 "nbformat_minor": 2
}
